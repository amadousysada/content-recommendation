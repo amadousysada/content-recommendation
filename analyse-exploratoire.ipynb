{
 "cells": [
  {
   "cell_type": "code",
   "id": "fe40d0f2-4469-471e-be3a-4677ca320c39",
   "metadata": {
    "id": "fe40d0f2-4469-471e-be3a-4677ca320c39",
    "outputId": "c2328493-d512-4c2e-c548-4e4ecc99a542",
    "colab": {
     "base_uri": "https://localhost:8080/"
    },
    "ExecuteTime": {
     "end_time": "2025-08-22T22:19:37.122673Z",
     "start_time": "2025-08-22T22:19:35.330652Z"
    }
   },
   "source": [
    "import time\n",
    "init_time = time.time()\n",
    "\n",
    "import os\n",
    "import numpy as np\n",
    "import pandas as pd\n",
    "\n",
    "import tensorflow as tf\n",
    "from tensorflow.keras.preprocessing.image import load_img, img_to_array\n",
    "from tensorflow.keras import layers\n",
    "from tensorflow.keras.models import Model\n",
    "from tensorflow.keras.utils import register_keras_serializable\n",
    "\n",
    "import matplotlib.pyplot as plt\n",
    "from matplotlib.colors import ListedColormap\n",
    "import matplotlib.patches as mpatches\n",
    "\n",
    "import keras\n",
    "# shell\n",
    "#pip install -U keras keras-hub\n",
    "import keras_hub\n",
    "from keras_hub.models import MiTBackbone\n",
    "\n",
    "# MLFLOW\n",
    "!pip install mlflow==2.22.0 -q\n",
    "import mlflow\n",
    "import mlflow.sklearn\n",
    "from mlflow.models import infer_signature\n",
    "\n",
    "from sklearn.metrics import confusion_matrix\n",
    "\n",
    "\n",
    "print(\"Versions:\")\n",
    "print(f\"{' '*2}- Numpy        =>: {np.__version__}\")\n",
    "print(f\"{' '*2}- tensorflow   =>: {tf.__version__}\")\n",
    "print(f\"{' '*2}- keras        =>: {tf.keras.__version__}\")\n",
    "print(f\"{' '*2}- keras        =>: {keras.__version__}\")\n",
    "print(f\"{' '*2}- keras_hub        =>: {keras_hub.__version__}\")\n",
    "print(f\"{' '*2}- matplotlib   =>: {plt.matplotlib.__version__}\")\n",
    "print(f\"{' '*2}- mlflow   =>: {mlflow.__version__}\")"
   ],
   "outputs": [
    {
     "ename": "ModuleNotFoundError",
     "evalue": "No module named 'tensorflow'",
     "output_type": "error",
     "traceback": [
      "\u001B[31m---------------------------------------------------------------------------\u001B[39m",
      "\u001B[31mModuleNotFoundError\u001B[39m                       Traceback (most recent call last)",
      "\u001B[36mCell\u001B[39m\u001B[36m \u001B[39m\u001B[32mIn[1]\u001B[39m\u001B[32m, line 8\u001B[39m\n\u001B[32m      5\u001B[39m \u001B[38;5;28;01mimport\u001B[39;00m\u001B[38;5;250m \u001B[39m\u001B[34;01mnumpy\u001B[39;00m\u001B[38;5;250m \u001B[39m\u001B[38;5;28;01mas\u001B[39;00m\u001B[38;5;250m \u001B[39m\u001B[34;01mnp\u001B[39;00m\n\u001B[32m      6\u001B[39m \u001B[38;5;28;01mimport\u001B[39;00m\u001B[38;5;250m \u001B[39m\u001B[34;01mpandas\u001B[39;00m\u001B[38;5;250m \u001B[39m\u001B[38;5;28;01mas\u001B[39;00m\u001B[38;5;250m \u001B[39m\u001B[34;01mpd\u001B[39;00m\n\u001B[32m----> \u001B[39m\u001B[32m8\u001B[39m \u001B[38;5;28;01mimport\u001B[39;00m\u001B[38;5;250m \u001B[39m\u001B[34;01mtensorflow\u001B[39;00m\u001B[38;5;250m \u001B[39m\u001B[38;5;28;01mas\u001B[39;00m\u001B[38;5;250m \u001B[39m\u001B[34;01mtf\u001B[39;00m\n\u001B[32m      9\u001B[39m \u001B[38;5;28;01mfrom\u001B[39;00m\u001B[38;5;250m \u001B[39m\u001B[34;01mtensorflow\u001B[39;00m\u001B[34;01m.\u001B[39;00m\u001B[34;01mkeras\u001B[39;00m\u001B[34;01m.\u001B[39;00m\u001B[34;01mpreprocessing\u001B[39;00m\u001B[34;01m.\u001B[39;00m\u001B[34;01mimage\u001B[39;00m\u001B[38;5;250m \u001B[39m\u001B[38;5;28;01mimport\u001B[39;00m load_img, img_to_array\n\u001B[32m     10\u001B[39m \u001B[38;5;28;01mfrom\u001B[39;00m\u001B[38;5;250m \u001B[39m\u001B[34;01mtensorflow\u001B[39;00m\u001B[34;01m.\u001B[39;00m\u001B[34;01mkeras\u001B[39;00m\u001B[38;5;250m \u001B[39m\u001B[38;5;28;01mimport\u001B[39;00m layers\n",
      "\u001B[31mModuleNotFoundError\u001B[39m: No module named 'tensorflow'"
     ]
    }
   ],
   "execution_count": 1
  },
  {
   "cell_type": "code",
   "source": [
    "base_path = \"/content/drive/MyDrive/data/\"\n",
    "image_dir = os.path.join(base_path, \"leftImg8bit\")\n",
    "mask_dir = os.path.join(base_path, \"gtFine\")\n",
    "\n",
    "MLFLOW_TRACKING_URI = \"https://mlflow.amadousy.dev\"\n",
    "mlflow.set_tracking_uri(MLFLOW_TRACKING_URI)"
   ],
   "metadata": {
    "id": "V_KjoPhkTsRx"
   },
   "id": "V_KjoPhkTsRx",
   "execution_count": null,
   "outputs": []
  }
 ],
 "metadata": {
  "kernelspec": {
   "display_name": "Python 3 (ipykernel)",
   "name": "python3",
   "language": "python"
  },
  "language_info": {
   "name": "python"
  },
  "colab": {
   "provenance": [],
   "machine_shape": "hm",
   "gpuType": "L4",
   "toc_visible": true,
   "include_colab_link": true
  },
  "accelerator": "GPU"
 },
 "nbformat": 4,
 "nbformat_minor": 5
}
